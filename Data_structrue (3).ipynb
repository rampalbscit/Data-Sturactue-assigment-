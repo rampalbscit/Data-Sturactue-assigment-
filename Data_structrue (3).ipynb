{
  "nbformat": 4,
  "nbformat_minor": 0,
  "metadata": {
    "colab": {
      "provenance": []
    },
    "kernelspec": {
      "name": "python3",
      "display_name": "Python 3"
    },
    "language_info": {
      "name": "python"
    }
  },
  "cells": [
    {
      "cell_type": "code",
      "execution_count": null,
      "metadata": {
        "id": "gV5pnAIrLyTI"
      },
      "outputs": [],
      "source": []
    },
    {
      "cell_type": "markdown",
      "source": [
        "# Theory question"
      ],
      "metadata": {
        "id": "OnNxrUksL0H4"
      }
    },
    {
      "cell_type": "markdown",
      "source": [
        "# what are data structures, and why are they important?"
      ],
      "metadata": {
        "id": "UGYwhMZzMF1F"
      }
    },
    {
      "cell_type": "markdown",
      "source": [
        "A data structure is a way of organizing, storing, and managing data efficiently so it can be accessed and manipulated easily. Data structures define how data is arranged in memory and how different operations (such as searching, inserting, deleting, and sorting) can be performed effectively.\n",
        "Data structures are crucial in programming and computer science because they:\n",
        "\n",
        "Improve Efficiency\n",
        "\n",
        "Choosing the right data structure optimizes performance for tasks like searching, sorting, and retrieving data.\n",
        "Example: Using a hash table (dictionary in Python) allows quick lookups compared to a list.\n",
        "Enable Faster Data Access\n",
        "\n",
        "Some data structures allow constant-time (O(1)) access, while others allow logarithmic (O(log n)) or linear-time (O(n)) access.\n",
        "Example: Arrays allow direct access by index, while linked lists require traversal.\n",
        "Help Solve Complex Problems\n",
        "\n",
        "Many algorithms rely on efficient data structures to function properly.\n",
        "Example: Graph structures help in route navigation (Google Maps), and trees help in hierarchical storage (file systems).\n",
        "Save Memory & Optimize Storage\n",
        "\n",
        "Some structures are memory-efficient and reduce storage overhead.\n",
        "Example: Using a set instead of a list avoids duplicate elements.\n",
        "Enhance Code Readability & Maintainability\n",
        "\n",
        "Well-structured data makes code easier to understand and maintain.\n",
        "Example: Stacks (LIFO) help implement function calls (recursion) in a structured way.\n",
        "\n",
        "\n",
        "\n",
        "\n",
        "\n",
        "\n",
        "\n",
        "\n"
      ],
      "metadata": {
        "id": "ZZh7qwFhMdrG"
      }
    },
    {
      "cell_type": "markdown",
      "source": [
        "# explian the difference between mutable and immutable data type with examples."
      ],
      "metadata": {
        "id": "MJw2ySuUM_LJ"
      }
    },
    {
      "cell_type": "markdown",
      "source": [
        "**Mutable Data Types**\n",
        "Mutable objects can be changed after creation.\n",
        "Changes can be made without changing the object’s identity (memory location).\n",
        "Example: List, Dictionaries, Sets\n",
        "**Immutable Data Types**\n",
        "Immutable objects cannot be changed after creation.\n",
        "Any modification creates a new object instead of altering the original one.\n",
        "Example:String, tuples"
      ],
      "metadata": {
        "id": "OQRBVrZD0KI1"
      }
    },
    {
      "cell_type": "markdown",
      "source": [
        "# What are the main differences between lists and tuples in python?"
      ],
      "metadata": {
        "id": "dY0Ltustz09D"
      }
    },
    {
      "cell_type": "markdown",
      "source": [
        "The main differences between lists and tuples are:\n",
        "**List**: List is a collection of data that is ordered and changable. Python list data are written in array brackets. There are 46 available methods on lists.\n",
        "**Tuples** : Tuple is collection of data that is ordered and unchangable.\n",
        "Python tuple data are written in round brackets.There are 33 available methods on tuples."
      ],
      "metadata": {
        "id": "vP7cjHDK091l"
      }
    },
    {
      "cell_type": "markdown",
      "source": [
        "# Describe how dictionaries store data."
      ],
      "metadata": {
        "id": "s77UuQmN3spN"
      }
    },
    {
      "cell_type": "markdown",
      "source": [
        " Dictionaries in Python store data in key-value pairs using a hash-based structure. Each key is mapped to a\n",
        "specific value, and accessing a value requires knowing the key. This structure allows for fast lookups,\n",
        "additions, and deletions."
      ],
      "metadata": {
        "id": "XYZrClXWCLiX"
      }
    },
    {
      "cell_type": "markdown",
      "source": [
        "# why might you use a set instead of a list in python?"
      ],
      "metadata": {
        "id": "8vtnpLoU4oU7"
      }
    },
    {
      "cell_type": "markdown",
      "source": [
        "1. Sets Automatically Remove Duplicates\n",
        "A set stores only unique values, while a list can contain duplicates.\n",
        "This is useful when you need distinct elements without extra filtering.\n",
        "2. Faster Lookups (O(1) vs O(n))\n",
        "Lists: Searching for an element takes O(n) time (linear search).\n",
        "Sets: Searching takes O(1) time (hash table lookup)\n",
        "3. Set Operations (Union, Intersection, Difference)\n",
        "Sets support mathematical operations like:\n",
        "\n",
        "Union (|) → Combine two sets.\n",
        "Intersection (&) → Find common elements.\n",
        "Difference (-) → Find elements in one set but not another.\n",
        "4. Less Memory Usage\n",
        "A set stores unique values only, while a list stores duplicates, which can consume more memory.\n",
        "If you don’t need duplicates, a set is more memory-efficient"
      ],
      "metadata": {
        "id": "EaeaDocX5Xoc"
      }
    },
    {
      "cell_type": "markdown",
      "source": [
        "# what is a string in python and how it is different from a list?"
      ],
      "metadata": {
        "id": "z3YdTtj25tvE"
      }
    },
    {
      "cell_type": "markdown",
      "source": [
        "A string in Python is a sequence of characters enclosed in quotes (' ', \" \", ''' ''', or \"\"\" \"\"\"). It is an immutable data type, meaning it cannot be changed after creation.\n",
        ". strings at in a lot of ways like a list of characters , but there are important differences .\n",
        ". we can not make changes to a string adding, removing or changing characters without rectreting the entire string.\n"
      ],
      "metadata": {
        "id": "uR8IBPSD6C4k"
      }
    },
    {
      "cell_type": "markdown",
      "source": [
        "# how do tuples ensure data integrity in pytjon?"
      ],
      "metadata": {
        "id": "j7ozOxGL7Qcr"
      }
    },
    {
      "cell_type": "markdown",
      "source": [
        "1. Tuples Are Immutable (Cannot Be Modified)\n",
        "Once a tuple is created, its elements cannot be changed, reassigned, or removed. This prevents unintended data corruption.\n",
        "2️⃣ Prevents Accidental Modifications\n",
        "With lists, data can be accidentally modified due to references. Tuples prevent this issue.\n",
        " 3. Tuples Can Be Used as Dictionary Keys (Lists Cannot)\n",
        "Because tuples are immutable, they can be used as dictionary keys, ensuring key integrity.\n",
        "4. Safer for Multi-Threading (Concurrency)\n",
        "When using multi-threaded programs, mutable data structures (like lists) may be modified by different threads simultaneously, leading to data corruption. Tuples remain unchanged, ensuring safe concurrent access.\n",
        "5. Ensures Fixed Data Structure\n",
        "When working with constant values, tuples make sure the structure does not change."
      ],
      "metadata": {
        "id": "K7SLpKFz70M5"
      }
    },
    {
      "cell_type": "markdown",
      "source": [
        "# what is a hash table and how does it relate to dictonaries in python?"
      ],
      "metadata": {
        "id": "EYw3SCD08YzK"
      }
    },
    {
      "cell_type": "markdown",
      "source": [
        "A hash table (or hash map) is a data structure that stores key-value pairs and uses a hashing function to compute an index for fast access to values.\n",
        "\n",
        "Keys are hashed to generate an index.\n",
        "Values are stored at that index in an internal array.\n",
        "This makes lookups, insertions, and deletions very fast (average O(1) time complexity).\n",
        "in python a hash is unique numerical value generated by hash function,and it is used to efficiently store and retrieve key value pairs with in a dictonary which is essential implemented as a hash table."
      ],
      "metadata": {
        "id": "Or8yAGZp8q_2"
      }
    },
    {
      "cell_type": "markdown",
      "source": [
        "# can lists contain different data type in python?"
      ],
      "metadata": {
        "id": "uiQCwtBg9y2g"
      }
    },
    {
      "cell_type": "markdown",
      "source": [
        " Yes! Python lists can store elements of different data types in the same list.\n",
        "A list is a dynamic, heterogeneous collection, meaning it can hold integers, strings, floats, booleans, other lists, dictionaries, tuples, and even objects."
      ],
      "metadata": {
        "id": "EHrmx1Qi-G-q"
      }
    },
    {
      "cell_type": "markdown",
      "source": [
        "# explain why strings are immutable in python ?"
      ],
      "metadata": {
        "id": "cI-hHqet-IC5"
      }
    },
    {
      "cell_type": "markdown",
      "source": [
        "In Python, strings are immutable, meaning that once a string is created, it cannot be changed. Any operation that appears to modify a string creates a new string instead."
      ],
      "metadata": {
        "id": "pOFcjeus-kfM"
      }
    },
    {
      "cell_type": "markdown",
      "source": [
        "# what advantages do dictonaries offer over list for certain tasks?"
      ],
      "metadata": {
        "id": "gbogyHGw-rs6"
      }
    },
    {
      "cell_type": "markdown",
      "source": [
        "Advantages of Dictionaries Over Lists in Python\n",
        "While lists and dictionaries both store collections of data, dictionaries offer several advantages over lists for certain tasks due to their key-value structure and hash-based lookup mechanism.\n",
        "\n",
        "1️⃣ Faster Lookups (O(1) vs. O(n))\n",
        "Lists: Searching for an element requires scanning the entire list O(n) time complexity.\n",
        "Dictionaries: Use hash tables for O(1) average time complexity when accessing values by key.\n",
        "2. More Meaningful Data Representation\n",
        "Lists use integer indices (0, 1, 2, ...).\n",
        "Dictionaries use custom keys, making data more readable and intuitive.3️⃣ Efficient Data Insertion & Deletion\n",
        "Lists: Inserting or deleting an item in the middle takes O(n) time (shifting elements).\n",
        "Dictionaries: Insertions and deletions are O(1) on average\n",
        "4️⃣ Flexible Data Structures\n",
        "Dictionaries allow nesting and complex relationships, making them useful for structured data.\n",
        "5️⃣ Dictionaries Can Be Used as Hash Maps (Sets Cannot)\n",
        "Dictionaries allow quick membership checks without storing duplicate keys.\n",
        "6️⃣ Better for Large Datasets\n",
        "When working with large data, dictionaries are more efficient because they use hashing rather than index-based searching.\n",
        "Ideal for storing and retrieving millions of records quickly.\n"
      ],
      "metadata": {
        "id": "wwpGGWAr-7aq"
      }
    },
    {
      "cell_type": "markdown",
      "source": [
        "# describe a scenario where using a tuple would be preferable over a list."
      ],
      "metadata": {
        "id": "tERCtjoh_43O"
      }
    },
    {
      "cell_type": "markdown",
      "source": [
        "**Scenario:** Storing Geographic Coordinates (Latitude, Longitude)\n",
        "imagine you are developing a mapping application and need to store geographic coordinates for different locations. Each coordinate consists of a latitude and longitude, such as:(40.7128, -74.0060) for New York City."
      ],
      "metadata": {
        "id": "4MK2NmrHANwl"
      }
    },
    {
      "cell_type": "markdown",
      "source": [
        "# how do sets handle duplicate values in python?"
      ],
      "metadata": {
        "id": "2qMf_E5TAl0l"
      }
    },
    {
      "cell_type": "markdown",
      "source": [
        "Sets in Python automatically remove duplicate values when elements are added.\n",
        "A set is an unordered collection of unique elements, meaning it does not allow duplicates.\n",
        "\n"
      ],
      "metadata": {
        "id": "GJoSwyu1Ay5l"
      }
    },
    {
      "cell_type": "code",
      "source": [
        "my_set = {1, 2, 2, 3, 4, 4, 5}\n",
        "print(my_set)\n",
        "\n"
      ],
      "metadata": {
        "colab": {
          "base_uri": "https://localhost:8080/"
        },
        "id": "BMkU6IZCA-Dk",
        "outputId": "f43e0d1f-029e-48f9-a40d-e396fc9a834c"
      },
      "execution_count": null,
      "outputs": [
        {
          "output_type": "stream",
          "name": "stdout",
          "text": [
            "{1, 2, 3, 4, 5}\n"
          ]
        }
      ]
    },
    {
      "cell_type": "markdown",
      "source": [
        "# how does \"in\" keyword work differently for lists and dictonaries?\n"
      ],
      "metadata": {
        "id": "J-ClgObcBF4w"
      }
    },
    {
      "cell_type": "markdown",
      "source": [
        "The in keyword is used to check for membership in both lists and dictionaries, but it works differently due to the underlying data structures.\n",
        "1️⃣ \"in\" with Lists (O(n) - Linear Search)\n",
        "Lists are ordered collections of elements.\n",
        "Checking membership in a list requires scanning each item one by one (linear search).\n",
        "Time Complexity: O(n) (slower for large lists).\n",
        "2️⃣ \"in\" with Dictionaries (O(1) - Hash Lookup)\n",
        "Dictionaries store key-value pairs using a hash table.\n",
        "Checking membership in a dictionary only checks for keys (not values).\n",
        "Time Complexity: O(1) on average (much faster than lists)."
      ],
      "metadata": {
        "id": "p9m9PW6QBq9i"
      }
    },
    {
      "cell_type": "markdown",
      "source": [
        "# can you modify the elements of a tuple?  explain why or why not?"
      ],
      "metadata": {
        "id": "tHRzR_yxB4ld"
      }
    },
    {
      "cell_type": "markdown",
      "source": [
        " No, you cannot modify the elements of a tuple because tuples are immutable in Python.\n",
        "\n"
      ],
      "metadata": {
        "id": "5pjjMLpWCUMg"
      }
    },
    {
      "cell_type": "markdown",
      "source": [
        "# what is a nested dictionary and give an example of its use case?"
      ],
      "metadata": {
        "id": "Dc3WOUrrCYik"
      }
    },
    {
      "cell_type": "markdown",
      "source": [
        "A nested dictionary is a dictionary that contains one or more dictionaries as values. This allows storing structured data in a hierarchical format.Example are given below."
      ],
      "metadata": {
        "id": "dZhJ_mWTCyeb"
      }
    },
    {
      "cell_type": "code",
      "source": [],
      "metadata": {
        "id": "uEnBbe5HjVf1"
      },
      "execution_count": null,
      "outputs": []
    },
    {
      "cell_type": "code",
      "source": [
        "employees = {\n",
        "    \"E001\": {\"name\": \"John Doe\", \"department\": \"HR\", \"salary\": 50000},\n",
        "    \"E002\": {\"name\": \"Jane Smith\", \"department\": \"IT\", \"salary\": 75000},\n",
        "    \"E003\": {\"name\": \"Mike Johnson\", \"department\": \"Finance\", \"salary\": 60000}\n",
        "}\n",
        "print(employees[\"E002\"][\"salary\"])\n"
      ],
      "metadata": {
        "colab": {
          "base_uri": "https://localhost:8080/"
        },
        "id": "oIw1X8HeC0sG",
        "outputId": "3c5e0464-c377-4835-d5e2-b05e60d446b3"
      },
      "execution_count": null,
      "outputs": [
        {
          "output_type": "stream",
          "name": "stdout",
          "text": [
            "75000\n"
          ]
        }
      ]
    },
    {
      "cell_type": "markdown",
      "source": [
        "# describe the time complexity of accessing elements in dictionary."
      ],
      "metadata": {
        "id": "Gv9lZeBTDCch"
      }
    },
    {
      "cell_type": "markdown",
      "source": [
        " Accessing elements in a dictionary has an average time complexity of O(1), thanks to the hash table\n",
        "structure. This efficiency makes dictionaries ideal for scenarios that require frequent and rapid data retrieval."
      ],
      "metadata": {
        "id": "GjZ6Kz6oCkd1"
      }
    },
    {
      "cell_type": "markdown",
      "source": [
        "# in what situations are list preferred over dictionaries?"
      ],
      "metadata": {
        "id": "I2QNrX2BDqlS"
      }
    },
    {
      "cell_type": "markdown",
      "source": [
        "1. When Order Matters\n",
        "Lists maintain the order of elements, while dictionaries (before Python 3.7) did not.\n",
        "If you need to process elements in a specific sequence, use a list.\n",
        "2️⃣ When You Need Indexed Access\n",
        "Lists support integer indexing (list[index]), while dictionaries use keys.\n",
        "If you need position-based access, lists are simpler.\n",
        "3️⃣ When You Need a Simple Collection of Values\n",
        "If your data is just a sequence of items (without key-value relationships), a list is simpler.\n",
        "4️⃣ When Memory Usage Matters\n",
        "Dictionaries use more memory because they store keys and values separately.\n",
        "Lists are more memory-efficient when storing simple data.\n",
        "5️⃣ When Performance of Iteration Matters\n",
        "Lists are faster for iterating over elements because they don’t involve key lookups."
      ],
      "metadata": {
        "id": "X68l2V8kEG2O"
      }
    },
    {
      "cell_type": "markdown",
      "source": [
        "# why are dictionaries considered on ordered and how does that affect data retrieval?\n"
      ],
      "metadata": {
        "id": "dwcCCVHwEfz-"
      }
    },
    {
      "cell_type": "markdown",
      "source": [
        "1️⃣ Dictionaries Are Ordered in Python 3.7+\n",
        "Before Python 3.6, dictionaries were unordered, meaning the order of key-value pairs was not guaranteed.\n",
        "Starting from Python 3.7, dictionaries preserve the insertion order of keys by default.The first key inserted appears first when iterating.\n",
        "The order remains consistent unless elements are removed or modified.\n",
        "\n",
        "**How Does This Affect Data Retrieval?**\n",
        "Since dictionaries are now ordered, iterating over them retrieves elements in the order they were added.\n",
        "This makes them more predictable when processing data.\n"
      ],
      "metadata": {
        "id": "E71TZFRyE9mH"
      }
    },
    {
      "cell_type": "markdown",
      "source": [
        "# Explain the differences between a list and a dictionary in terms of data retrieval.\n"
      ],
      "metadata": {
        "id": "YImmTGpdFeOd"
      }
    },
    {
      "cell_type": "markdown",
      "source": [
        " In a list, data retrieval involves accessing elements by index, which is straightforward but linear in search\n",
        "time if the element’s position is unknown. In contrast, a dictionary allows access to data by key, offering\n",
        "faster retrieval regardless of element count."
      ],
      "metadata": {
        "id": "gXAKvYCsCwzC"
      }
    },
    {
      "cell_type": "markdown",
      "source": [
        "# PRACTICAL QUESTIONS"
      ],
      "metadata": {
        "id": "vOdmPGP8Gdtp"
      }
    },
    {
      "cell_type": "markdown",
      "source": [
        "# write a code to create a string with your name and print it."
      ],
      "metadata": {
        "id": "cLeWwTU8Gioa"
      }
    },
    {
      "cell_type": "code",
      "source": [
        "\n",
        "my_name = \"shubham\"\n",
        "print(my_name)\n"
      ],
      "metadata": {
        "colab": {
          "base_uri": "https://localhost:8080/"
        },
        "id": "aSnxq05MG6kb",
        "outputId": "51d766ec-48ca-4523-8ead-9ce758713cfc"
      },
      "execution_count": 1,
      "outputs": [
        {
          "output_type": "stream",
          "name": "stdout",
          "text": [
            "shubham\n"
          ]
        }
      ]
    },
    {
      "cell_type": "markdown",
      "source": [
        "# write a code to find the length of the string \"hello world'."
      ],
      "metadata": {
        "id": "d5sifCEAHBpp"
      }
    },
    {
      "cell_type": "code",
      "source": [
        "\n",
        "my_string = \"hello world\"\n",
        "print(len(my_string))\n"
      ],
      "metadata": {
        "colab": {
          "base_uri": "https://localhost:8080/"
        },
        "id": "U33RaGMFHWM8",
        "outputId": "9d1971bd-6f99-4478-d0d5-800300a0e28e"
      },
      "execution_count": null,
      "outputs": [
        {
          "output_type": "stream",
          "name": "stdout",
          "text": [
            "11\n"
          ]
        }
      ]
    },
    {
      "cell_type": "markdown",
      "source": [
        "# write a code to slice the first three characters from the string \"python programming\"."
      ],
      "metadata": {
        "id": "FZAxHFnkHfR8"
      }
    },
    {
      "cell_type": "code",
      "source": [
        "\n",
        "my_string = \"python programming\"\n",
        "first_three = my_string[:3]\n",
        "print(first_three)\n"
      ],
      "metadata": {
        "colab": {
          "base_uri": "https://localhost:8080/"
        },
        "id": "AyezwaX6H8Cr",
        "outputId": "8d11cc0c-567e-4066-bfc4-2d885893e239"
      },
      "execution_count": null,
      "outputs": [
        {
          "output_type": "stream",
          "name": "stdout",
          "text": [
            "pyt\n"
          ]
        }
      ]
    },
    {
      "cell_type": "markdown",
      "source": [
        "# write a code to convert the string \"hello\" to uppercase."
      ],
      "metadata": {
        "id": "_k3ArriTIEq0"
      }
    },
    {
      "cell_type": "code",
      "source": [
        "\n",
        "my_string = \"hello\"\n",
        "uppercase_string = my_string.upper()\n",
        "print(uppercase_string)\n"
      ],
      "metadata": {
        "colab": {
          "base_uri": "https://localhost:8080/"
        },
        "id": "FIzNO8c7IVdW",
        "outputId": "7a7a7eaa-bbd4-4da8-c61b-9cd59a73f6a8"
      },
      "execution_count": null,
      "outputs": [
        {
          "output_type": "stream",
          "name": "stdout",
          "text": [
            "HELLO\n"
          ]
        }
      ]
    },
    {
      "cell_type": "markdown",
      "source": [
        "# write a code to replace the word \"apple\" with \"orange' in the string \"i like apple'."
      ],
      "metadata": {
        "id": "eT6TRYthIaNR"
      }
    },
    {
      "cell_type": "code",
      "source": [
        "\n",
        "my_string = \"I like apple\"\n",
        "new_string = my_string.replace(\"apple\", \"orange\")\n",
        "print(new_string)\n"
      ],
      "metadata": {
        "colab": {
          "base_uri": "https://localhost:8080/"
        },
        "id": "VXSoZsWjIv_-",
        "outputId": "5f96b154-6113-49e4-93d0-515f525a12e5"
      },
      "execution_count": null,
      "outputs": [
        {
          "output_type": "stream",
          "name": "stdout",
          "text": [
            "I like orange\n"
          ]
        }
      ]
    },
    {
      "cell_type": "markdown",
      "source": [
        "# write a code to create a list with numbers 1 to 5 and print it."
      ],
      "metadata": {
        "id": "OcHpPx_fI1LM"
      }
    },
    {
      "cell_type": "code",
      "source": [
        "\n",
        "numbers = [1, 2, 3, 4, 5]\n",
        "print(numbers)\n"
      ],
      "metadata": {
        "colab": {
          "base_uri": "https://localhost:8080/"
        },
        "id": "H69caxTiJGR1",
        "outputId": "f099066f-3a3a-4bae-a5a4-334453c38d2c"
      },
      "execution_count": null,
      "outputs": [
        {
          "output_type": "stream",
          "name": "stdout",
          "text": [
            "[1, 2, 3, 4, 5]\n"
          ]
        }
      ]
    },
    {
      "cell_type": "markdown",
      "source": [
        "# write a code to append the number 10 to the list [1,2,3,4].\n"
      ],
      "metadata": {
        "id": "BIEd63jaJLJS"
      }
    },
    {
      "cell_type": "code",
      "source": [
        "\n",
        "numbers = [1, 2, 3, 4]\n",
        "numbers.append(10)\n",
        "print(numbers)\n"
      ],
      "metadata": {
        "colab": {
          "base_uri": "https://localhost:8080/"
        },
        "id": "ProNLIgJJr53",
        "outputId": "1383fe81-e631-42cf-c196-0c54e793e35e"
      },
      "execution_count": null,
      "outputs": [
        {
          "output_type": "stream",
          "name": "stdout",
          "text": [
            "[1, 2, 3, 4, 10]\n"
          ]
        }
      ]
    },
    {
      "cell_type": "markdown",
      "source": [
        "# witre a code to remove the number 3 from the list [1,2,3,4,5]."
      ],
      "metadata": {
        "id": "N_PyWoMdJxYM"
      }
    },
    {
      "cell_type": "code",
      "source": [
        "\n",
        "numbers = [1, 2, 3, 4, 5]\n",
        "numbers.remove(3)\n",
        "print(numbers)\n"
      ],
      "metadata": {
        "colab": {
          "base_uri": "https://localhost:8080/"
        },
        "id": "9o8Um2QZKGCE",
        "outputId": "26d7f8fc-a399-4a47-d8a0-7c68681319fe"
      },
      "execution_count": null,
      "outputs": [
        {
          "output_type": "stream",
          "name": "stdout",
          "text": [
            "[1, 2, 4, 5]\n"
          ]
        }
      ]
    },
    {
      "cell_type": "markdown",
      "source": [
        "# wite a code to access the second element in the list ['a', 'b', 'c', 'd']."
      ],
      "metadata": {
        "id": "Mcuzh__hKK9g"
      }
    },
    {
      "cell_type": "code",
      "source": [
        "\n",
        "letters = ['a', 'b', 'c', 'd']\n",
        "second_element = letters[1]\n",
        "print(second_element)\n"
      ],
      "metadata": {
        "colab": {
          "base_uri": "https://localhost:8080/"
        },
        "id": "SgowVBPyKikJ",
        "outputId": "54243aa6-19a2-4c1b-be91-546fc70c22c5"
      },
      "execution_count": null,
      "outputs": [
        {
          "output_type": "stream",
          "name": "stdout",
          "text": [
            "b\n"
          ]
        }
      ]
    },
    {
      "cell_type": "markdown",
      "source": [
        "# write a code to reverse the list[10,20,30,40,50]."
      ],
      "metadata": {
        "id": "ogJaa-5vKn81"
      }
    },
    {
      "cell_type": "code",
      "source": [
        "\n",
        "numbers = [10, 20, 30, 40, 50]\n",
        "numbers.reverse()\n",
        "print(numbers)\n"
      ],
      "metadata": {
        "colab": {
          "base_uri": "https://localhost:8080/"
        },
        "id": "Tmnhj-OeK1o8",
        "outputId": "348a3a9a-1b18-488d-97ad-0249c86a4b18"
      },
      "execution_count": null,
      "outputs": [
        {
          "output_type": "stream",
          "name": "stdout",
          "text": [
            "[50, 40, 30, 20, 10]\n"
          ]
        }
      ]
    },
    {
      "cell_type": "markdown",
      "source": [
        "# write a code to create a tuple with the elements 100,200,and 300 and print it."
      ],
      "metadata": {
        "id": "A7hwb2f0Mrxa"
      }
    },
    {
      "cell_type": "code",
      "source": [
        "\n",
        "my_tuple = (100, 200, 300)\n",
        "print(my_tuple)\n"
      ],
      "metadata": {
        "colab": {
          "base_uri": "https://localhost:8080/"
        },
        "id": "RKwawnkCfIFG",
        "outputId": "b6a7cc41-79b5-4535-97c5-b884e5fa3cbd"
      },
      "execution_count": null,
      "outputs": [
        {
          "output_type": "stream",
          "name": "stdout",
          "text": [
            "(100, 200, 300)\n"
          ]
        }
      ]
    },
    {
      "cell_type": "markdown",
      "source": [
        "# write a code to access the second to last element of the tuple (\"red\", \"green\", \"blue\", \"yellow')."
      ],
      "metadata": {
        "id": "r3NVle-2fW-M"
      }
    },
    {
      "cell_type": "code",
      "source": [
        "\n",
        "colors = (\"red\", \"green\", \"blue\", \"yellow\")\n",
        "second_to_last = colors[-2]\n",
        "print(second_to_last)\n"
      ],
      "metadata": {
        "colab": {
          "base_uri": "https://localhost:8080/"
        },
        "id": "JRtQy6LLf1Y3",
        "outputId": "d8c9cfaa-6249-4b02-fd5c-66baa83067c2"
      },
      "execution_count": null,
      "outputs": [
        {
          "output_type": "stream",
          "name": "stdout",
          "text": [
            "blue\n"
          ]
        }
      ]
    },
    {
      "cell_type": "markdown",
      "source": [
        "# write a code to find the minimum number in the tupple (10,20,5,15)."
      ],
      "metadata": {
        "id": "wnOhH54qf9HP"
      }
    },
    {
      "cell_type": "code",
      "source": [
        "\n",
        "numbers = (10, 20, 5, 15)\n",
        "min_number = min(numbers)\n",
        "print(\"The minimum number is:\", min_number)\n"
      ],
      "metadata": {
        "colab": {
          "base_uri": "https://localhost:8080/"
        },
        "id": "RiVlV5LOgiAt",
        "outputId": "cdbcb06f-ab5b-4e0d-a4d8-bc5bd7ef143b"
      },
      "execution_count": null,
      "outputs": [
        {
          "output_type": "stream",
          "name": "stdout",
          "text": [
            "The minimum number is: 5\n"
          ]
        }
      ]
    },
    {
      "cell_type": "markdown",
      "source": [
        "# write a code to find the element 'cat' in the tuple ('dog, 'cat', 'rabbit')."
      ],
      "metadata": {
        "id": "OqC114yBgouN"
      }
    },
    {
      "cell_type": "code",
      "source": [
        "\n",
        "animals = ('dog', 'cat', 'rabbit')\n",
        "if 'cat' in animals:\n",
        "    print(\"'cat' is in the tuple.\")\n",
        "else:\n",
        "    print(\"'cat' is not in the tuple.\")\n"
      ],
      "metadata": {
        "colab": {
          "base_uri": "https://localhost:8080/"
        },
        "id": "CdkGJrTng_43",
        "outputId": "324318d6-cf22-4dfa-a9b8-1a68cde96f6d"
      },
      "execution_count": null,
      "outputs": [
        {
          "output_type": "stream",
          "name": "stdout",
          "text": [
            "'cat' is in the tuple.\n"
          ]
        }
      ]
    },
    {
      "cell_type": "markdown",
      "source": [
        "# write a code to create a tuple containing three fruits and check if 'kiwi' is in it."
      ],
      "metadata": {
        "id": "KrU4nkpChGPD"
      }
    },
    {
      "cell_type": "code",
      "source": [
        "\n",
        "fruits = (\"apple\", \"banana\", \"orange\")\n",
        "if \"kiwi\" in fruits:\n",
        "    print(\"'kiwi' is in the tuple.\")\n",
        "else:\n",
        "    print(\"'kiwi' is not in the tuple.\")\n"
      ],
      "metadata": {
        "colab": {
          "base_uri": "https://localhost:8080/"
        },
        "id": "ti4mbf8thblA",
        "outputId": "9f0b0a03-36e2-4fdb-c1ca-449c1edecfa1"
      },
      "execution_count": null,
      "outputs": [
        {
          "output_type": "stream",
          "name": "stdout",
          "text": [
            "'kiwi' is not in the tuple.\n"
          ]
        }
      ]
    },
    {
      "cell_type": "markdown",
      "source": [
        "# write a code to create a set with the elements 'a', 'b', 'c' and print it."
      ],
      "metadata": {
        "id": "LIMT7Bt1hgyI"
      }
    },
    {
      "cell_type": "code",
      "source": [
        "\n",
        "my_set = {'a', 'b', 'c'}\n",
        "print(my_set)\n"
      ],
      "metadata": {
        "colab": {
          "base_uri": "https://localhost:8080/"
        },
        "id": "xSgUANQQh2Zm",
        "outputId": "2df78d7c-b7b6-4e24-e689-25d9dcc86c63"
      },
      "execution_count": null,
      "outputs": [
        {
          "output_type": "stream",
          "name": "stdout",
          "text": [
            "{'a', 'c', 'b'}\n"
          ]
        }
      ]
    },
    {
      "cell_type": "markdown",
      "source": [
        "# write a code to clear all elements from the set {1,2,3,4,5}."
      ],
      "metadata": {
        "id": "Zy9SsSdBh7Pl"
      }
    },
    {
      "cell_type": "code",
      "source": [
        "\n",
        "my_set = {1, 2, 3, 4, 5}\n",
        "my_set.clear()\n",
        "print(my_set)\n"
      ],
      "metadata": {
        "colab": {
          "base_uri": "https://localhost:8080/"
        },
        "id": "lzRbLBkhiSWg",
        "outputId": "3931e698-a334-43ef-9292-6f165a97bdfb"
      },
      "execution_count": null,
      "outputs": [
        {
          "output_type": "stream",
          "name": "stdout",
          "text": [
            "set()\n"
          ]
        }
      ]
    },
    {
      "cell_type": "markdown",
      "source": [
        "# write a code to remove the element 4 from the set {1,2,3,4}."
      ],
      "metadata": {
        "id": "UiG68L6uiaPY"
      }
    },
    {
      "cell_type": "code",
      "source": [
        "\n",
        "my_set = {1, 2, 3, 4}\n",
        "my_set.remove(4)\n",
        "print(my_set)\n"
      ],
      "metadata": {
        "colab": {
          "base_uri": "https://localhost:8080/"
        },
        "id": "rtYgRyQEjKGh",
        "outputId": "c950a237-6ac1-4e01-84d3-effd2ee207c7"
      },
      "execution_count": null,
      "outputs": [
        {
          "output_type": "stream",
          "name": "stdout",
          "text": [
            "{1, 2, 3}\n"
          ]
        }
      ]
    },
    {
      "cell_type": "markdown",
      "source": [
        "# write a code to find the intersection of two sets {1,2,3} and {2,3,4}."
      ],
      "metadata": {
        "id": "eY1AFlT8jbm3"
      }
    },
    {
      "cell_type": "code",
      "source": [
        "\n",
        "set1 = {1, 2, 3}\n",
        "set2 = {2, 3, 4}\n",
        "\n",
        "\n",
        "intersection_set = set1.intersection(set2)\n",
        "\n",
        "\n",
        "print(\"Intersection:\", intersection_set)\n"
      ],
      "metadata": {
        "colab": {
          "base_uri": "https://localhost:8080/"
        },
        "id": "kYnMvHIu0DTY",
        "outputId": "a2c2b552-ea65-4eb3-cf4f-ec3497213bcc"
      },
      "execution_count": null,
      "outputs": [
        {
          "output_type": "stream",
          "name": "stdout",
          "text": [
            "Intersection: {2, 3}\n"
          ]
        }
      ]
    },
    {
      "cell_type": "markdown",
      "source": [
        "# write a code to create a dictionary with the keys 'name', 'age', and 'city' and pruint it."
      ],
      "metadata": {
        "id": "qNsSNZoC0L6V"
      }
    },
    {
      "cell_type": "code",
      "source": [
        "\n",
        "\n",
        "person = {\n",
        "    \"name\": \"Alice\",\n",
        "    \"age\": 25,\n",
        "    \"city\": \"New York\"\n",
        "}\n",
        "print(person)\n"
      ],
      "metadata": {
        "colab": {
          "base_uri": "https://localhost:8080/"
        },
        "id": "HKlR1ATn0hCN",
        "outputId": "c35c3cad-0c4a-4653-c68c-bdeb2be8130a"
      },
      "execution_count": null,
      "outputs": [
        {
          "output_type": "stream",
          "name": "stdout",
          "text": [
            "{'name': 'Alice', 'age': 25, 'city': 'New York'}\n"
          ]
        }
      ]
    },
    {
      "cell_type": "markdown",
      "source": [
        "# write a code to add a new key value pair \"country\": \"USA\" to the dictionary {name:'john', age:25}."
      ],
      "metadata": {
        "id": "_TIQNHKP0lSe"
      }
    },
    {
      "cell_type": "code",
      "source": [
        "\n",
        "person = {\"name\": \"John\", \"age\": 25}\n",
        "person[\"country\"] = \"USA\"\n",
        "print(person)\n"
      ],
      "metadata": {
        "id": "XU-Ab34u1Xcf"
      },
      "execution_count": null,
      "outputs": []
    },
    {
      "cell_type": "markdown",
      "source": [
        "# write a code to access the value associated with the key \"name\" in the dictionary {'name': 'Alice', 'age':30}."
      ],
      "metadata": {
        "id": "kJlYA8vT1Y4B"
      }
    },
    {
      "cell_type": "code",
      "source": [
        "\n",
        "person = {'name': 'Alice', 'age': 30}\n",
        "name_value = person['name']\n",
        "print(\"Name:\", name_value)\n"
      ],
      "metadata": {
        "colab": {
          "base_uri": "https://localhost:8080/"
        },
        "id": "GAiu9ZRh2B71",
        "outputId": "7eb6865c-f586-4f19-80f6-af6d7fd417c7"
      },
      "execution_count": null,
      "outputs": [
        {
          "output_type": "stream",
          "name": "stdout",
          "text": [
            "Name: Alice\n"
          ]
        }
      ]
    },
    {
      "cell_type": "markdown",
      "source": [
        "# write a code to remove the \"age\" from the dictionary {'name': 'Bob', 'age':22, 'city': 'New York'}."
      ],
      "metadata": {
        "id": "UWZ7qVaw2Eaa"
      }
    },
    {
      "cell_type": "code",
      "source": [
        "\n",
        "person = {'name': 'Bob', 'age': 22, 'city': 'New York'}\n",
        "person.pop('age')\n",
        "print(person)\n"
      ],
      "metadata": {
        "colab": {
          "base_uri": "https://localhost:8080/"
        },
        "id": "pyNes6nC2ov4",
        "outputId": "469c0fae-0284-403b-a2b4-9b4047a5ca4c"
      },
      "execution_count": null,
      "outputs": [
        {
          "output_type": "stream",
          "name": "stdout",
          "text": [
            "{'name': 'Bob', 'city': 'New York'}\n"
          ]
        }
      ]
    },
    {
      "cell_type": "markdown",
      "source": [
        "# write a code to check if the key \"city\" exists in the dictionary {'name':'Alice', 'city':'Paris'}."
      ],
      "metadata": {
        "id": "2Iud2V813Eh9"
      }
    },
    {
      "cell_type": "code",
      "source": [
        "\n",
        "person = {'name': 'Alice', 'city': 'Paris'}\n",
        "if 'city' in person:\n",
        "    print(\"The key 'city' exists in the dictionary.\")\n",
        "else:\n",
        "    print(\"The key 'city' does not exist in the dictionary.\")\n"
      ],
      "metadata": {
        "colab": {
          "base_uri": "https://localhost:8080/"
        },
        "id": "p998RWIA3gT7",
        "outputId": "68083781-a4e3-459d-fdc9-f63e55999318"
      },
      "execution_count": null,
      "outputs": [
        {
          "output_type": "stream",
          "name": "stdout",
          "text": [
            "The key 'city' exists in the dictionary.\n"
          ]
        }
      ]
    },
    {
      "cell_type": "markdown",
      "source": [
        "# write a code to create a list, a tuple, and a dictionary, and print them all."
      ],
      "metadata": {
        "id": "au1DvNnq3jjz"
      }
    },
    {
      "cell_type": "code",
      "source": [
        "\n",
        "my_list = [1, 2, 3, 4, 5]\n",
        "my_tuple = ('apple', 'banana', 'cherry')\n",
        "my_dict = {'name': 'Alice', 'age': 25, 'city': 'New York'}\n",
        "print(\"List:\", my_list)\n",
        "print(\"Tuple:\", my_tuple)\n",
        "print(\"Dictionary:\", my_dict)\n"
      ],
      "metadata": {
        "colab": {
          "base_uri": "https://localhost:8080/"
        },
        "id": "Bdzh5KS83y4-",
        "outputId": "ac271989-4f03-4853-b9f3-0cd4eb5333ab"
      },
      "execution_count": null,
      "outputs": [
        {
          "output_type": "stream",
          "name": "stdout",
          "text": [
            "List: [1, 2, 3, 4, 5]\n",
            "Tuple: ('apple', 'banana', 'cherry')\n",
            "Dictionary: {'name': 'Alice', 'age': 25, 'city': 'New York'}\n"
          ]
        }
      ]
    },
    {
      "cell_type": "markdown",
      "source": [
        "# write a code to create a list of 5 random numbers between 1 and 100, sort it in ascending order, and print the result."
      ],
      "metadata": {
        "id": "kY0MC5en304W"
      }
    },
    {
      "cell_type": "code",
      "source": [
        "import random\n",
        "random_numbers = random.sample(range(1, 10), 5)\n",
        "random_numbers.sort()\n",
        "print(\"Sorted random numbers:\", random_numbers)\n"
      ],
      "metadata": {
        "colab": {
          "base_uri": "https://localhost:8080/"
        },
        "id": "fiT43cag4OnU",
        "outputId": "57da2974-35be-4e3a-863c-73c481642fa6"
      },
      "execution_count": null,
      "outputs": [
        {
          "output_type": "stream",
          "name": "stdout",
          "text": [
            "Sorted random numbers: [4, 5, 6, 7, 9]\n"
          ]
        }
      ]
    },
    {
      "cell_type": "markdown",
      "source": [
        "# write a code to create a list with strings and print the elements at the third index."
      ],
      "metadata": {
        "id": "7Qz-uEjI4YWi"
      }
    },
    {
      "cell_type": "code",
      "source": [
        "\n",
        "my_list = [\"apple\", \"banana\", \"cherry\", \"orange\", \"grape\"]\n",
        "print(\"Element at index 3:\", my_list[3])\n"
      ],
      "metadata": {
        "colab": {
          "base_uri": "https://localhost:8080/"
        },
        "id": "9onqCUxZ4tW9",
        "outputId": "62e7f5a7-88fd-4c23-87e7-f0b68fed3502"
      },
      "execution_count": null,
      "outputs": [
        {
          "output_type": "stream",
          "name": "stdout",
          "text": [
            "Element at index 3: orange\n"
          ]
        }
      ]
    },
    {
      "cell_type": "markdown",
      "source": [
        "# write a code to combine two dictionaries into one and print the result."
      ],
      "metadata": {
        "id": "5HupY_UF4vjo"
      }
    },
    {
      "cell_type": "code",
      "source": [
        "\n",
        "dict1 = {'name': 'Alice', 'age': 25}\n",
        "dict2 = {'city': 'New York', 'country': 'USA'}\n",
        "combined_dict = dict1.copy()\n",
        "combined_dict.update(dict2)\n",
        "print(\"Combined Dictionary:\", combined_dict)\n"
      ],
      "metadata": {
        "colab": {
          "base_uri": "https://localhost:8080/"
        },
        "id": "fF01vPTX49Nm",
        "outputId": "cf56d49c-3782-4445-9f01-a3dc87e41e11"
      },
      "execution_count": null,
      "outputs": [
        {
          "output_type": "stream",
          "name": "stdout",
          "text": [
            "Combined Dictionary: {'name': 'Alice', 'age': 25, 'city': 'New York', 'country': 'USA'}\n"
          ]
        }
      ]
    },
    {
      "cell_type": "markdown",
      "source": [
        "# write a code to convert a list of strings into a set."
      ],
      "metadata": {
        "id": "YKJkgZbf4_5e"
      }
    },
    {
      "cell_type": "code",
      "source": [
        "\n",
        "my_list = [\"apple\", \"banana\", \"cherry\", \"apple\", \"banana\"]\n",
        "my_set = set(my_list)\n",
        "print(\"Set:\", my_set)\n"
      ],
      "metadata": {
        "colab": {
          "base_uri": "https://localhost:8080/"
        },
        "id": "YAtlMrnr5M1N",
        "outputId": "05658ef2-f4d9-499c-8949-ddc22da5231c"
      },
      "execution_count": null,
      "outputs": [
        {
          "output_type": "stream",
          "name": "stdout",
          "text": [
            "Set: {'banana', 'apple', 'cherry'}\n"
          ]
        }
      ]
    }
  ]
}